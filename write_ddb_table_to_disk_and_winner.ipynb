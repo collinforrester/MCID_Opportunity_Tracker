{
 "cells": [
  {
   "cell_type": "code",
   "execution_count": 22,
   "metadata": {},
   "outputs": [],
   "source": [
    "import boto3\n",
    "from pprint import pprint\n",
    "import csv\n",
    "import json\n",
    "import random\n",
    "\n",
    "# Update the DynamoDB table information after it's created by Elastic Beanstalk\n",
    "ddb_table = 'awseb-e-7c68nzyeq7-stack-MCIDIdeasTable-PH0OQLXZC3RI'\n"
   ]
  },
  {
   "cell_type": "code",
   "execution_count": null,
   "metadata": {},
   "outputs": [],
   "source": [
    "# Get access credentials for Dynamo\n",
    "ssmclient = boto3.client('ssm')\n",
    "ssmresponse = ssmclient.get_parameter(\n",
    "    Name='DynamoDB_Reader_User_Creds',\n",
    "    WithDecryption=True\n",
    ")\n",
    "\n",
    "ddb_creds = json.loads(ssmresponse['Parameter']['Value'])\n",
    "ddb_access_key = ddb_creds['Access key ID']\n",
    "ddb_secret_key = ddb_creds['Secret access key']"
   ]
  },
  {
   "cell_type": "code",
   "execution_count": 24,
   "metadata": {},
   "outputs": [],
   "source": [
    "# Scan the Dynamo table\n",
    "\n",
    "ddbclient = boto3.client(\n",
    "    'dynamodb',\n",
    "    aws_access_key_id=ddb_access_key,\n",
    "    aws_secret_access_key=ddb_secret_key,\n",
    "    region_name='us-east-1'\n",
    "    )\n",
    "\n",
    "ddbresponse = ddbclient.scan(TableName=ddb_table)\n",
    "\n"
   ]
  },
  {
   "cell_type": "code",
   "execution_count": null,
   "metadata": {},
   "outputs": [],
   "source": [
    "# Write output from table to CSV\n",
    "\n",
    "if ddbresponse['Count'] > 0:\n",
    "\n",
    "    table_header=list(ddbresponse['Items'][0].keys())\n",
    "\n",
    "    # open a file for writing\n",
    "    data = open('ddb_output.csv', 'w')\n",
    "\n",
    "    # create the csv writer object\n",
    "    csvwriter = csv.writer(data)\n",
    "    count = 0\n",
    "    for item in ddbresponse['Items']:\n",
    "        if count == 0:\n",
    "            header = table_header\n",
    "            csvwriter.writerow(header)\n",
    "            count += 1\n",
    "        row = [item[attrib]['S'] for attrib in table_header]\n",
    "        csvwriter.writerow(row)\n",
    "    data.close()\n",
    "\n",
    "    print('Success! DDB table written to ddb_output.csv')\n",
    "\n",
    "else:\n",
    "    print('Dynamo table is empty. No output written to disk.')\n"
   ]
  },
  {
   "cell_type": "code",
   "execution_count": 71,
   "metadata": {},
   "outputs": [
    {
     "name": "stdout",
     "output_type": "stream",
     "text": [
      "Winner is Idea #2\n",
      "Wallace\n"
     ]
    }
   ],
   "source": [
    "# Select random winner\n",
    "\n",
    "winner = random.choice(range(ddbresponse['Count']))\n",
    "\n",
    "print('Winner is Idea #' + str(winner))\n",
    "print(ddbresponse['Items'][winner]['Name']['S'])"
   ]
  }
 ],
 "metadata": {
  "kernelspec": {
   "display_name": "Python 3",
   "language": "python",
   "name": "python3"
  },
  "language_info": {
   "codemirror_mode": {
    "name": "ipython",
    "version": 3
   },
   "file_extension": ".py",
   "mimetype": "text/x-python",
   "name": "python",
   "nbconvert_exporter": "python",
   "pygments_lexer": "ipython3",
   "version": "3.6.7"
  }
 },
 "nbformat": 4,
 "nbformat_minor": 2
}
